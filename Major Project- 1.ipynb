{
 "cells": [
  {
   "cell_type": "markdown",
   "id": "6effb747",
   "metadata": {},
   "source": [
    "# A program to create a dictionary with product id as the key and product             details as values for inventory management system."
   ]
  },
  {
   "cell_type": "code",
   "execution_count": 1,
   "id": "9ab0f23f",
   "metadata": {},
   "outputs": [],
   "source": [
    "dct ={ 6010 : {\"Product_Name\" : \"TV\",\n",
    "               \"Orignal_Price\" : 50000,\n",
    "               \"Discount\" : '20%',\n",
    "               \"Price_after_discount\" : 40000,\n",
    "               \"guarantee/Warranty\" : '3 Years',\n",
    "               \"stock\":\"40 pcs\"},\n",
    "       \n",
    "       6020 : {\"Product_Name\" : \"Speakers\",\n",
    "               \"Orignal_Price\" : 2000,\n",
    "               \"Discount\" : '10%',\n",
    "               \"Price_after_discount\" : 1800,\n",
    "               \"guarantee/Warranty\" : '6 Months',\n",
    "               \"stock\" : \"10 pcs\"},\n",
    "      \n",
    "       6030 : {\"Product_Name\" : \"Air Conditioner\",\n",
    "               \"Orignal_Price\" : 35000,\n",
    "               \"Discount\" : '40%',\n",
    "               \"Price_after_discount\" : 21000,\n",
    "               \"guarantee/Warranty\" : '6 Years',\n",
    "               \"stock\" : \"22 pcs\"},\n",
    "      \n",
    "       6040 : {\"Product_Name\" : \"Refrigerators\",\n",
    "               \"Orignal_Price\" : 40000,\n",
    "               \"Discount\" : '5%',\n",
    "               \"Price_after_discount\" : 38000,\n",
    "               \"guarantee/Warranty\" : '2 Years',\n",
    "               \"stock\" : \"12 pcs\"}, \n",
    "      \n",
    "       6050 : {\"Product_Name\" : \"Washing Machine\",\n",
    "               \"Orignal_Price\" : 28000,\n",
    "               \"Discount\" : '35%',\n",
    "               \"Price_after_discount\" : 18200,\n",
    "               \"guarantee/Warranty\" : '1.5 Years',\n",
    "               \"stock\" : \"8 pcs\"},\n",
    "       \n",
    "       6060 : {\"Product_Name\" : \"Mobile Phone\",\n",
    "               \"Orignal_Price\" : 12000,\n",
    "               \"Discount\" : '2%',\n",
    "               \"Price_after_discount\" : 11760,\n",
    "               \"guarantee/Warranty\" : '1 Years',\n",
    "               \"stock\" : \"23 pcs\"},\n",
    "      \n",
    "       6070 : {\"Product_Name\" : \"Headset\",\n",
    "               \"Orignal_Price\" : 4000,\n",
    "               \"Discount\" : 'No Discount',\n",
    "               \"Price_after_discount\" : 4000,\n",
    "               \"guarantee/Warranty\" : '3 Months',\n",
    "               \"stock\" : \"16 pcs\"},\n",
    "      \n",
    "       6080 : {\"Product_Name\" : \"Charger\",\n",
    "               \"Orignal_Price\" : 500,\n",
    "               \"Discount\" : 'No Discount',\n",
    "               \"Price_after_discount\" : 500,\n",
    "               \"guarantee/Warranty\" : 'No guarantee/Warranty',\n",
    "               \"stock\" : \"6 pcs\"} }"
   ]
  },
  {
   "cell_type": "markdown",
   "id": "d18749dc",
   "metadata": {},
   "source": [
    "# Product Details"
   ]
  },
  {
   "cell_type": "code",
   "execution_count": 2,
   "id": "9b030bbd",
   "metadata": {},
   "outputs": [
    {
     "name": "stdout",
     "output_type": "stream",
     "text": [
      "Product Id - Product Name\n",
      " \n",
      "      6010 - TV\n",
      "      6020 - Speakers\n",
      "      6030 - Air Conditioner\n",
      "      6040 - Refrigerators\n",
      "      6050 - Washing Machine\n",
      "      6060 - Mobile Phone\n",
      "      6070 - Headset\n",
      "      6080 - Charger\n",
      " \n",
      "-------------------------------------------\n",
      "Enter Product Id for product details: 6040\n",
      "-------------------------------------------\n",
      "Product_Name         :  Refrigerators\n",
      "-------------------------------------------\n",
      "Orignal_Price        :  40000\n",
      "Discount             :  5%\n",
      "-------------------------------------------\n",
      "Price_after_discount :  38000\n",
      "-------------------------------------------\n",
      "guarantee/Warranty   :  2 Years\n",
      "-------------------------------------------\n",
      "stock                :  12 pcs\n",
      "-------------------------------------------\n"
     ]
    }
   ],
   "source": [
    "print('Product Id - Product Name')\n",
    "print(' ')      \n",
    "print('      6010 - TV')\n",
    "print('      6020 - Speakers')\n",
    "print('      6030 - Air Conditioner')\n",
    "print('      6040 - Refrigerators')\n",
    "print('      6050 - Washing Machine')\n",
    "print('      6060 - Mobile Phone')\n",
    "print('      6070 - Headset')\n",
    "print('      6080 - Charger') \n",
    "print(' ')\n",
    "print('-'*43)\n",
    "Product_Id = int(input('Enter Product Id for product details: '))\n",
    "print('-'*43)\n",
    "print(\"Product_Name         : \" ,dct[Product_Id][\"Product_Name\"])\n",
    "print('-'*43)\n",
    "print(\"Orignal_Price        : \" ,dct[Product_Id][\"Orignal_Price\"])\n",
    "print(\"Discount             : \", dct[Product_Id][\"Discount\"])\n",
    "print('-'*43)\n",
    "print(\"Price_after_discount : \",dct[Product_Id][\"Price_after_discount\"])\n",
    "print('-'*43)\n",
    "print(\"guarantee/Warranty   : \" ,dct[Product_Id][\"guarantee/Warranty\"])\n",
    "print('-'*43)\n",
    "print(\"stock                : \",dct[Product_Id][\"stock\"])\n",
    "print('-'*43)"
   ]
  }
 ],
 "metadata": {
  "kernelspec": {
   "display_name": "Python 3 (ipykernel)",
   "language": "python",
   "name": "python3"
  },
  "language_info": {
   "codemirror_mode": {
    "name": "ipython",
    "version": 3
   },
   "file_extension": ".py",
   "mimetype": "text/x-python",
   "name": "python",
   "nbconvert_exporter": "python",
   "pygments_lexer": "ipython3",
   "version": "3.9.12"
  }
 },
 "nbformat": 4,
 "nbformat_minor": 5
}
